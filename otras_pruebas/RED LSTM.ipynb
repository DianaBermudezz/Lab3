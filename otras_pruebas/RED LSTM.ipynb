{
 "cells": [
  {
   "cell_type": "code",
   "execution_count": null,
   "id": "43348dcd",
   "metadata": {},
   "outputs": [],
   "source": [
    "import pandas as pd\n",
    "from sklearn.linear_model import LinearRegression\n",
    "from sklearn.metrics import mean_squared_error\n",
    "import pandas as pd\n",
    "from sklearn.model_selection import train_test_split, StratifiedKFold\n",
    "import gc\n",
    "!pip install numpy pandas matplotlib scikit-learn tensorflow\n",
    "\n",
    "import matplotlib.pyplot as plt\n",
    "\n",
    "from sklearn.preprocessing import MinMaxScaler\n",
    "from tensorflow.keras.models import Sequential\n",
    "from tensorflow.keras.layers import LSTM, Dense\n",
    "\n"
   ]
  },
  {
   "cell_type": "code",
   "execution_count": null,
   "id": "dc52e7f3",
   "metadata": {},
   "outputs": [],
   "source": [
    "# Paths\n",
    "BASE_DIR = '../'\n",
    "PATH_TO_TRAIN = os.path.join(BASE_DIR, \"Dataset/train.parquet\")\n",
    "PATH_TO_MODELS = os.path.join(BASE_DIR, \"LGBM/models\")\n",
    "#PATH_TO_TEMP_FILES = os.path.join(BASE_DIR, \"LGBM/optuna/optuna_temp_artifacts\")\n",
    "#PATH_TO_OPTUNA_ARTIFACTS = os.path.join(BASE_DIR, \"LGBM/optuna/optuna_artifacts\")\n",
    "\n",
    "\n",
    "SEED = 42\n",
    "BATCH_SIZE = 50\n",
    "TEST_SIZE = 0.2\n",
    "PATH_TO_TRAIN"
   ]
  },
  {
   "cell_type": "code",
   "execution_count": null,
   "id": "c7f5451f",
   "metadata": {},
   "outputs": [],
   "source": [
    "import optuna\n",
    "\n",
    "def objective(trial):\n",
    "    seq_len = trial.suggest_int(\"seq_len\", 5, 60)\n",
    "\n",
    "    X, y = create_sequences(data, seq_len)\n",
    "    # split en train/test\n",
    "    split = int(0.8 * len(X))\n",
    "    X_train, X_test = X[:split], X[split:]\n",
    "    y_train, y_test = y[:split], y[split:]\n",
    "\n",
    "    model = Sequential([\n",
    "        LSTM(50, input_shape=(seq_len, X_train.shape[2])),\n",
    "        Dense(1)\n",
    "    ])\n",
    "    model.compile(optimizer=\"adam\", loss=\"mse\")\n",
    "    model.fit(X_train, y_train, epochs=10, batch_size=32, verbose=0)\n",
    "    loss = model.evaluate(X_test, y_test, verbose=0)\n",
    "\n",
    "    return loss\n",
    "\n",
    "study = optuna.create_study(direction=\"minimize\")\n",
    "study.optimize(objective, n_trials=20)\n",
    "\n",
    "print(\"Mejor seq_len:\", study.best_params[\"seq_len\"])"
   ]
  },
  {
   "cell_type": "code",
   "execution_count": null,
   "id": "2f304848",
   "metadata": {},
   "outputs": [],
   "source": [
    "for product_id, group in productos:\n",
    "    df = pd.read_parquet(PATH_TO_TRAIN)\n",
    "\n",
    "    df = df[df['product_id'] == product_id][['periodo', 'clase']].copy()\n",
    "    #df = df[df['product_id'] == product_id][['periodo', 'customer_id', 'clase']].copy()\n",
    "    gc.collect()  # fuerza liberación de memoria no referenciada\n",
    "    serie = group.sort_values('periodo')[['periodo', 'clase']]\n",
    "\n",
    "    train, test = train_test_split(df,\n",
    "                               test_size = TEST_SIZE,\n",
    "                               random_state = SEED,\n",
    "                               ) #stratify = dataset.clase saco esto porque no es un problema de clasificacion\n",
    "\n",
    "    "
   ]
  },
  {
   "cell_type": "code",
   "execution_count": null,
   "id": "6ce922ee",
   "metadata": {},
   "outputs": [],
   "source": [
    "for product_id, group in df.groupby('product_id'):\n",
    "    serie = group.sort_values('periodo')[['periodo', 'clase']]\n",
    "\n",
    "    # Por ejemplo, podrías fijar un punto de corte para test/train\n",
    "    split_index = int(len(serie) * (1-TEST_SIZE))\n",
    "    train = serie.iloc[:split_index]\n",
    "    test = serie.iloc[split_index:]\n",
    "\n",
    "    # A modo ilustrativo, podrías aplicar un modelo sobre 'clase'\n",
    "    # Por ejemplo, predicción naive para baseline\n",
    "    pred = train['clase'].iloc[-1]\n",
    "    test['pred_clase'] = pred\n",
    "\n",
    "    print(f'Producto {product_id} - Última clase train: {pred}')"
   ]
  }
 ],
 "metadata": {
  "language_info": {
   "name": "python"
  }
 },
 "nbformat": 4,
 "nbformat_minor": 5
}
